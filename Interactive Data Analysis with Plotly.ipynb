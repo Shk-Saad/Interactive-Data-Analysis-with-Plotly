{
 "cells": [
  {
   "cell_type": "markdown",
   "id": "efdc0e0d",
   "metadata": {},
   "source": [
    "# NYC Flights Database"
   ]
  },
  {
   "cell_type": "code",
   "execution_count": 1,
   "id": "0f0fd9bd",
   "metadata": {},
   "outputs": [],
   "source": [
    "import datetime\n",
    "import numpy as np\n",
    "import pandas as pd\n",
    "\n",
    "import plotly.graph_objects as go\n",
    "from ipywidgets import widgets"
   ]
  },
  {
   "cell_type": "code",
   "execution_count": 2,
   "id": "5e784cea",
   "metadata": {},
   "outputs": [],
   "source": [
    "df = pd.read_csv(r\"C:\\Users\\saads\\OneDrive\\Documents\\NYC.csv\")\n",
    "df = df.drop(df.columns[[0]], axis=1)"
   ]
  },
  {
   "cell_type": "code",
   "execution_count": 3,
   "id": "07cfb9cf",
   "metadata": {},
   "outputs": [
    {
     "data": {
      "text/html": [
       "<div>\n",
       "<style scoped>\n",
       "    .dataframe tbody tr th:only-of-type {\n",
       "        vertical-align: middle;\n",
       "    }\n",
       "\n",
       "    .dataframe tbody tr th {\n",
       "        vertical-align: top;\n",
       "    }\n",
       "\n",
       "    .dataframe thead th {\n",
       "        text-align: right;\n",
       "    }\n",
       "</style>\n",
       "<table border=\"1\" class=\"dataframe\">\n",
       "  <thead>\n",
       "    <tr style=\"text-align: right;\">\n",
       "      <th></th>\n",
       "      <th>year</th>\n",
       "      <th>month</th>\n",
       "      <th>day</th>\n",
       "      <th>dep_time</th>\n",
       "      <th>dep_delay</th>\n",
       "      <th>arr_time</th>\n",
       "      <th>arr_delay</th>\n",
       "      <th>carrier</th>\n",
       "      <th>tailnum</th>\n",
       "      <th>flight</th>\n",
       "      <th>origin</th>\n",
       "      <th>dest</th>\n",
       "      <th>air_time</th>\n",
       "      <th>distance</th>\n",
       "      <th>hour</th>\n",
       "      <th>minute</th>\n",
       "    </tr>\n",
       "  </thead>\n",
       "  <tbody>\n",
       "    <tr>\n",
       "      <th>307789</th>\n",
       "      <td>2013</td>\n",
       "      <td>8</td>\n",
       "      <td>30</td>\n",
       "      <td>857.0</td>\n",
       "      <td>-4.0</td>\n",
       "      <td>1151.0</td>\n",
       "      <td>-13.0</td>\n",
       "      <td>B6</td>\n",
       "      <td>N637JB</td>\n",
       "      <td>63</td>\n",
       "      <td>JFK</td>\n",
       "      <td>SEA</td>\n",
       "      <td>325.0</td>\n",
       "      <td>2422</td>\n",
       "      <td>8.0</td>\n",
       "      <td>57.0</td>\n",
       "    </tr>\n",
       "    <tr>\n",
       "      <th>25480</th>\n",
       "      <td>2013</td>\n",
       "      <td>1</td>\n",
       "      <td>30</td>\n",
       "      <td>1117.0</td>\n",
       "      <td>27.0</td>\n",
       "      <td>1358.0</td>\n",
       "      <td>-7.0</td>\n",
       "      <td>B6</td>\n",
       "      <td>N584JB</td>\n",
       "      <td>373</td>\n",
       "      <td>LGA</td>\n",
       "      <td>FLL</td>\n",
       "      <td>145.0</td>\n",
       "      <td>1076</td>\n",
       "      <td>11.0</td>\n",
       "      <td>17.0</td>\n",
       "    </tr>\n",
       "    <tr>\n",
       "      <th>205054</th>\n",
       "      <td>2013</td>\n",
       "      <td>5</td>\n",
       "      <td>13</td>\n",
       "      <td>1528.0</td>\n",
       "      <td>-1.0</td>\n",
       "      <td>1713.0</td>\n",
       "      <td>-40.0</td>\n",
       "      <td>UA</td>\n",
       "      <td>N77530</td>\n",
       "      <td>1101</td>\n",
       "      <td>EWR</td>\n",
       "      <td>DEN</td>\n",
       "      <td>207.0</td>\n",
       "      <td>1605</td>\n",
       "      <td>15.0</td>\n",
       "      <td>28.0</td>\n",
       "    </tr>\n",
       "  </tbody>\n",
       "</table>\n",
       "</div>"
      ],
      "text/plain": [
       "        year  month  day  dep_time  dep_delay  arr_time  arr_delay carrier  \\\n",
       "307789  2013      8   30     857.0       -4.0    1151.0      -13.0      B6   \n",
       "25480   2013      1   30    1117.0       27.0    1358.0       -7.0      B6   \n",
       "205054  2013      5   13    1528.0       -1.0    1713.0      -40.0      UA   \n",
       "\n",
       "       tailnum  flight origin dest  air_time  distance  hour  minute  \n",
       "307789  N637JB      63    JFK  SEA     325.0      2422   8.0    57.0  \n",
       "25480   N584JB     373    LGA  FLL     145.0      1076  11.0    17.0  \n",
       "205054  N77530    1101    EWR  DEN     207.0      1605  15.0    28.0  "
      ]
     },
     "execution_count": 3,
     "metadata": {},
     "output_type": "execute_result"
    }
   ],
   "source": [
    "df.sample(3)"
   ]
  },
  {
   "cell_type": "code",
   "execution_count": 4,
   "id": "c1927fbe",
   "metadata": {},
   "outputs": [
    {
     "data": {
      "text/plain": [
       "array(['UA', 'AA', 'B6', 'DL', 'EV', 'MQ', 'US', 'WN', 'VX', 'FL', 'AS',\n",
       "       '9E', 'F9', 'HA', 'YV', 'OO'], dtype=object)"
      ]
     },
     "execution_count": 4,
     "metadata": {},
     "output_type": "execute_result"
    }
   ],
   "source": [
    "df['carrier'].unique()\n"
   ]
  },
  {
   "cell_type": "code",
   "execution_count": 5,
   "id": "987f9366",
   "metadata": {},
   "outputs": [],
   "source": [
    "month = widgets.IntSlider(\n",
    "    value=1.0,\n",
    "    min=1.0,\n",
    "    max=12.0,\n",
    "    step=1.0,\n",
    "    description='Month:',\n",
    "    continuous_update=False\n",
    ")\n",
    "\n",
    "use_date = widgets.Checkbox(\n",
    "    description='Date: ',\n",
    "    value=True,\n",
    ")\n",
    "\n",
    "container = widgets.HBox(children=[use_date, month])\n",
    "\n",
    "textbox = widgets.Dropdown(\n",
    "    description='Airline:   ',\n",
    "    value='DL',\n",
    "    options=df['carrier'].unique().tolist()\n",
    ")\n",
    "\n",
    "origin = widgets.Dropdown(\n",
    "    options=list(df['origin'].unique()),\n",
    "    value='LGA',\n",
    "    description='Origin Airport:',\n",
    ")\n",
    "\n",
    "\n",
    "# Assign an empty figure widget with two traces\n",
    "trace1 = go.Histogram(x=df['arr_delay'], opacity=0.75, name='Arrival Delays')\n",
    "trace2 = go.Histogram(x=df['dep_delay'], opacity=0.75, name='Departure Delays')\n",
    "g = go.FigureWidget(data=[trace1, trace2],\n",
    "                    layout=go.Layout(\n",
    "                        title=dict(\n",
    "                            text='NYC FlightDatabase'\n",
    "                        ),\n",
    "                        barmode='overlay'\n",
    "                    ))"
   ]
  },
  {
   "cell_type": "code",
   "execution_count": 6,
   "id": "0da33770",
   "metadata": {},
   "outputs": [],
   "source": [
    "def validate():\n",
    "    if origin.value in df['origin'].unique() and textbox.value in df['carrier'].unique():\n",
    "        return True\n",
    "    else:\n",
    "        return False\n",
    "\n",
    "\n",
    "def response(change):\n",
    "    if validate():\n",
    "        if use_date.value:\n",
    "            filter_list = [i and j and k for i, j, k in\n",
    "                           zip(df['month'] == month.value, df['carrier'] == textbox.value,\n",
    "                               df['origin'] == origin.value)]\n",
    "            temp_df = df[filter_list]\n",
    "\n",
    "        else:\n",
    "            filter_list = [i and j for i, j in\n",
    "                           zip(df['carrier'] == 'DL', df['origin'] == origin.value)]\n",
    "            temp_df = df[filter_list]\n",
    "        x1 = temp_df['arr_delay']\n",
    "        x2 = temp_df['dep_delay']\n",
    "        with g.batch_update():\n",
    "            g.data[0].x = x1\n",
    "            g.data[1].x = x2\n",
    "            g.layout.barmode = 'overlay'\n",
    "            g.layout.xaxis.title = 'Delay in Minutes'\n",
    "            g.layout.yaxis.title = 'Number of Delays'\n",
    "\n",
    "\n",
    "origin.observe(response, names=\"value\")\n",
    "textbox.observe(response, names=\"value\")\n",
    "month.observe(response, names=\"value\")\n",
    "use_date.observe(response, names=\"value\")"
   ]
  },
  {
   "cell_type": "code",
   "execution_count": 7,
   "id": "e2f4a585",
   "metadata": {},
   "outputs": [
    {
     "data": {
      "application/vnd.jupyter.widget-view+json": {
       "model_id": "0a018bf4678d433383a019db9d806afc",
       "version_major": 2,
       "version_minor": 0
      },
      "text/plain": [
       "VBox(children=(HBox(children=(Checkbox(value=True, description='Date: '), IntSlider(value=1, continuous_update…"
      ]
     },
     "execution_count": 7,
     "metadata": {},
     "output_type": "execute_result"
    }
   ],
   "source": [
    "container2 = widgets.HBox([origin, textbox])\n",
    "widgets.VBox([container,\n",
    "              container2,\n",
    "              g])\n"
   ]
  },
  {
   "cell_type": "code",
   "execution_count": 8,
   "id": "019faf00",
   "metadata": {},
   "outputs": [
    {
     "name": "stderr",
     "output_type": "stream",
     "text": [
      "C:\\Users\\saads\\AppData\\Local\\Temp\\ipykernel_4616\\1772005961.py:2: UserWarning:\n",
      "\n",
      "\n",
      "The dash_core_components package is deprecated. Please replace\n",
      "`import dash_core_components as dcc` with `from dash import dcc`\n",
      "\n",
      "C:\\Users\\saads\\AppData\\Local\\Temp\\ipykernel_4616\\1772005961.py:3: UserWarning:\n",
      "\n",
      "\n",
      "The dash_html_components package is deprecated. Please replace\n",
      "`import dash_html_components as html` with `from dash import html`\n",
      "\n"
     ]
    },
    {
     "data": {
      "text/html": [
       "\n",
       "        <iframe\n",
       "            width=\"100%\"\n",
       "            height=\"650\"\n",
       "            src=\"http://127.0.0.1:8054/\"\n",
       "            frameborder=\"0\"\n",
       "            allowfullscreen\n",
       "            \n",
       "        ></iframe>\n",
       "        "
      ],
      "text/plain": [
       "<IPython.lib.display.IFrame at 0x281c020c790>"
      ]
     },
     "metadata": {},
     "output_type": "display_data"
    }
   ],
   "source": [
    "import dash\n",
    "import dash_core_components as dcc\n",
    "import dash_html_components as html\n",
    "from dash.dependencies import Input, Output\n",
    "import pandas as pd\n",
    "\n",
    "# Load the CSV file into a DataFrame\n",
    "file_path = r\"C:\\Users\\saads\\OneDrive\\Documents\\NYC.csv\"\n",
    "df = pd.read_csv(file_path)\n",
    "\n",
    "# Initialize the Dash app\n",
    "app = dash.Dash(__name__)\n",
    "\n",
    "# Define the layout of the web app\n",
    "app.layout = html.Div([\n",
    "    # Define an input component (e.g., a dropdown)\n",
    "    dcc.Dropdown(\n",
    "        id='your-input-component',  # Update 'your-input-component'\n",
    "        options=[\n",
    "            {'label': 'Option 1', 'value': 'option1'},\n",
    "            {'label': 'Option 2', 'value': 'option2'}\n",
    "        ],\n",
    "        value='option1'  # Set the default value\n",
    "    ),\n",
    "    dcc.Graph(id='scatter-plot'),\n",
    "])\n",
    "\n",
    "# Define a callback to update the scatter plot\n",
    "@app.callback(\n",
    "    Output('scatter-plot', 'figure'),\n",
    "    Input('your-input-component', 'value')  # Match the input component id\n",
    ")\n",
    "def update_scatter_plot(selected_value):\n",
    "    # Perform any data filtering or processing here based on user input\n",
    "    # For example, you can use df to create a scatter plot\n",
    "    # and update the figure based on the selected_value\n",
    "\n",
    "    # Return a plotly figure\n",
    "    return {\n",
    "        'data': [\n",
    "            # Define your scatter plot data here\n",
    "        ],\n",
    "        'layout': {\n",
    "            'title': 'Scatter Plot',\n",
    "            # Customize the layout of your plot\n",
    "        }\n",
    "    }\n",
    "\n",
    "if __name__ == '__main__':\n",
    "    app.run_server(debug=True, port=8054)\n"
   ]
  },
  {
   "cell_type": "code",
   "execution_count": 9,
   "id": "971c25b0",
   "metadata": {},
   "outputs": [
    {
     "data": {
      "text/html": [
       "\n",
       "        <iframe\n",
       "            width=\"100%\"\n",
       "            height=\"650\"\n",
       "            src=\"http://127.0.0.1:8061/\"\n",
       "            frameborder=\"0\"\n",
       "            allowfullscreen\n",
       "            \n",
       "        ></iframe>\n",
       "        "
      ],
      "text/plain": [
       "<IPython.lib.display.IFrame at 0x281b99fe4d0>"
      ]
     },
     "metadata": {},
     "output_type": "display_data"
    }
   ],
   "source": [
    "# Import necessary libraries\n",
    "import dash\n",
    "import dash_core_components as dcc\n",
    "import dash_html_components as html\n",
    "from dash.dependencies import Input, Output\n",
    "import plotly.express as px\n",
    "import pandas as pd\n",
    "\n",
    "# Load the flight data\n",
    "flight_data = pd.read_csv(r\"C:\\Users\\saads\\OneDrive\\Documents\\NYC.csv\")\n",
    "\n",
    "# Initialize the Dash app\n",
    "app = dash.Dash(__name__)\n",
    "\n",
    "# Define the layout of the dashboard\n",
    "app.layout = html.Div([\n",
    "    html.H1(\"Flight Data Analysis Dashboard\"),\n",
    "    \n",
    "    # Dropdown for selecting a carrier\n",
    "    dcc.Dropdown(\n",
    "        id='carrier-dropdown',\n",
    "        options=[{'label': carrier, 'value': carrier} for carrier in flight_data['carrier'].unique()],\n",
    "        value=flight_data['carrier'].unique()[0],\n",
    "        multi=False\n",
    "    ),\n",
    "    \n",
    "    # Scatter plot for Departure Delay vs Arrival Delay\n",
    "    dcc.Graph(id='scatter-plot'),\n",
    "    \n",
    "    # Bar chart for Departure Delay by Hour\n",
    "    dcc.Graph(id='bar-chart'),\n",
    "])\n",
    "\n",
    "# Define callback functions to update plots based on user inputs\n",
    "@app.callback(\n",
    "    Output('scatter-plot', 'figure'),\n",
    "    Output('bar-chart', 'figure'),\n",
    "    Input('carrier-dropdown', 'value')\n",
    ")\n",
    "def update_plots(selected_carrier):\n",
    "    filtered_data = flight_data[flight_data['carrier'] == selected_carrier]\n",
    "    \n",
    "    # Scatter plot\n",
    "    scatter_plot = px.scatter(filtered_data, x='dep_delay', y='arr_delay', title='Departure Delay vs Arrival Delay')\n",
    "    \n",
    "    # Bar chart\n",
    "    bar_chart = px.bar(filtered_data, x='hour', y='dep_delay', title='Departure Delay by Hour')\n",
    "    \n",
    "    return scatter_plot, bar_chart\n",
    "\n",
    "# Run the app\n",
    "if __name__ == '__main__':\n",
    "    app.run_server(debug=True,port=8061)\n"
   ]
  },
  {
   "cell_type": "code",
   "execution_count": null,
   "id": "259e5b8e",
   "metadata": {},
   "outputs": [],
   "source": []
  }
 ],
 "metadata": {
  "kernelspec": {
   "display_name": "Python 3 (ipykernel)",
   "language": "python",
   "name": "python3"
  },
  "language_info": {
   "codemirror_mode": {
    "name": "ipython",
    "version": 3
   },
   "file_extension": ".py",
   "mimetype": "text/x-python",
   "name": "python",
   "nbconvert_exporter": "python",
   "pygments_lexer": "ipython3",
   "version": "3.11.3"
  }
 },
 "nbformat": 4,
 "nbformat_minor": 5
}
